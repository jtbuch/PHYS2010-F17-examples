{
 "cells": [
  {
   "cell_type": "markdown",
   "metadata": {},
   "source": [
    "   # Muon decay experiment"
   ]
  },
  {
   "cell_type": "markdown",
   "metadata": {},
   "source": [
    "We use this code to:\n",
    "* simulate the muon decay experiment,\n",
    "* obtain a best fit value, and \n",
    "* the corresponding error for its lifetime."
   ]
  },
  {
   "cell_type": "code",
   "execution_count": 59,
   "metadata": {
    "collapsed": true
   },
   "outputs": [],
   "source": [
    "%matplotlib inline\n",
    "\n",
    "from __future__ import division    #for division operator\n",
    "import numpy as np\n",
    "from scipy.optimize import minimize, curve_fit\n",
    "import scipy.stats as stats\n",
    "import seaborn as sd\n",
    "import matplotlib.pylab as plt\n",
    "outfilepath = '/Users/Jatan/Google Drive/PHYS2010/Muon_decay/'   #modify this path to your plot directory"
   ]
  },
  {
   "cell_type": "markdown",
   "metadata": {},
   "source": [
    "We first simulate the muon data set using Monte carlo methods. Initializing..."
   ]
  },
  {
   "cell_type": "code",
   "execution_count": 62,
   "metadata": {
    "collapsed": true
   },
   "outputs": [],
   "source": [
    "sig_samples = 1500\n",
    "bkg_samples = 300\n",
    "start_t = 0\n",
    "stop_t = 20 #micro seconds\n",
    "bw = 0.01 #10 ns\n",
    "data_bins = np.arange(0, stop_t + bw, bw)\n",
    "tau = 2.2 # microseconds"
   ]
  },
  {
   "cell_type": "markdown",
   "metadata": {},
   "source": [
    "## Method 1: Rejection sampling"
   ]
  },
  {
   "cell_type": "markdown",
   "metadata": {},
   "source": [
    "1800 samples are generated using rejection sampling. Also shown is a scatter plot of events/10ns for reference. "
   ]
  },
  {
   "cell_type": "code",
   "execution_count": 66,
   "metadata": {
    "collapsed": false
   },
   "outputs": [
    {
     "data": {
      "image/png": "[encoded data removed]",
      "text/plain": [
       "<matplotlib.figure.Figure at 0x10f332150>"
      ]
     },
     "metadata": {},
     "output_type": "display_data"
    }
   ],
   "source": [
    "signal = []\n",
    "count = 1\n",
    "count_tot = 1\n",
    "def test_func(arg):\n",
    "\treturn (1500*np.exp(-arg/tau) + 0.3)\n",
    "\n",
    "while count <= (sig_samples+bkg_samples):\n",
    "\tcount_tot += 1\n",
    "\tx = stop_t*np.random.random()\n",
    "\ty = 1501*np.random.random()\n",
    "\tif y <= test_func(x):\n",
    "\t\tsignal.append(x)\n",
    "\t\tcount += 1\n",
    "\n",
    "events, bins = np.histogram(signal, data_bins) #do it for 10 bins?\n",
    "rescaled_bins = (bins[:-1] + bins[1:]) / 2  #rescaling bins to find midpoints for each bin\n",
    "\n",
    "fig, ax = plt.subplots(1, 1)\n",
    "plt.scatter(rescaled_bins, events)\n",
    "plt.xlim(0, 20)\n",
    "plt.xlabel(r'$t \\; [ \\mathrm{in \\; s} ]$')\n",
    "plt.ylim(0, 16)\n",
    "plt.setp(ax.get_yticklabels()[0], visible=False)    \n",
    "plt.ylabel(r'Events')\n",
    "plt.grid()\n",
    "plt.show()"
   ]
  },
  {
   "cell_type": "markdown",
   "metadata": {},
   "source": [
    "To avoid binning errors, we perform an unbinned maximum likelihood fit on the data. Since the signal for the muon decay is given by:\n",
    "\\begin{equation}\n",
    "N(t) = N_\\text{sig} \\, e^{\\frac{-t}{\\tau}} + N_\\text{bkg}\n",
    "\\end{equation}\n",
    "\n",
    "it's preferable to use an exponential pdf for the fit. The normalized pdf we consider is\n",
    "\\begin{equation}\n",
    "f(x) = A\\,e^{\\,(\\frac{-t}{\\tau})}\n",
    "\\end{equation}\n",
    "where\n",
    "\\begin{equation}\n",
    "A = \\frac{1}{\\tau\\,(1 - e^{\\,(\\frac{-20}{\\tau})})}\n",
    "\\end{equation}\n",
    "\n",
    "We can define the likelihood function as\n",
    "\\begin{equation}\n",
    "\\mathcal{L}\\,(\\tau \\,|\\, t_i) = \\prod_{i=1}^{i=N} A \\, e^{\\,(\\frac{-t_i}{\\tau})}\n",
    "\\end{equation}\n",
    "\n",
    "Or equivalently the log likelihood,\n",
    "\\begin{equation}\n",
    "\\log \\, \\mathcal{L}\\,(\\tau \\,|\\, t_i) = \\sum_{i=1}^{i=N} \\left(\\log\\,(A) + \\,\\frac{-t_i}{\\tau} \\right)\n",
    "\\end{equation}\n",
    "\n",
    "We maximize the log likelihood to obtain the best fit lifetime $\\tau$ and the maximum likelihood value."
   ]
  },
  {
   "cell_type": "code",
   "execution_count": 67,
   "metadata": {
    "collapsed": false
   },
   "outputs": [
    {
     "name": "stdout",
     "output_type": "stream",
     "text": [
      "3263.14335681 2.25751953125\n"
     ]
    }
   ],
   "source": [
    "def likelihood_fit(params):\n",
    "\tlifetime = params\n",
    "\tlogll = np.sum(np.log(1/(lifetime*(1-np.exp(-stop_t/lifetime)))) - (signal/lifetime))\n",
    "\treturn -logll\n",
    "\n",
    "init_params = [1,]\n",
    "result = minimize(likelihood_fit, init_params, method='nelder-mead')\n",
    "tau_fit = result.x[0]   #best fit estimator = np.sum(signal)/len(signal)\n",
    "\n",
    "print likelihood_fit(tau_fit), tau_fit"
   ]
  },
  {
   "cell_type": "code",
   "execution_count": 68,
   "metadata": {
    "collapsed": false
   },
   "outputs": [
    {
     "data": {
      "image/png": "[encoded data removed]",
      "text/plain": [
       "<matplotlib.figure.Figure at 0x10f3fc1d0>"
      ]
     },
     "metadata": {},
     "output_type": "display_data"
    }
   ],
   "source": [
    "def exp_func(t):\n",
    " \tA = 1/(tau_fit*(1-np.exp(-stop_t/tau_fit))) \n",
    " \treturn A*np.exp(-t/tau_fit) \n",
    "\n",
    "fig, ax = plt.subplots(1, 1)\n",
    "plt.hist(signal, 30, normed='True', histtype='stepfilled', color='blue', alpha=0.2, label='histogram')\n",
    "plt.plot(data_bins, exp_func(data_bins), color='g', lw='2', label='pdf')\n",
    "plt.xlim(0, 20)\n",
    "plt.xlabel(r'$t \\; [ \\mathrm{s} ]$')\n",
    "#plt.ylim(0, 300)\n",
    "#plt.setp(ax.get_yticklabels()[0], visible=False)    \n",
    "plt.ylabel(r'Events')\n",
    "plt.suptitle('Muon decay simulation')\n",
    "plt.legend(loc='upper right', frameon=False)\n",
    "plt.grid()\n",
    "plt.show()\n",
    "#plt.savefig(outfilepath + 'rejection_sampling_1500.pdf')"
   ]
  },
  {
   "cell_type": "markdown",
   "metadata": {},
   "source": [
    "10^5 MCs for error in lifetime"
   ]
  },
  {
   "cell_type": "markdown",
   "metadata": {},
   "source": [
    "## Method 2: Inverse cdf method (for signal) + flat bkg"
   ]
  },
  {
   "cell_type": "markdown",
   "metadata": {},
   "source": [
    "(likelihood fit on binned data with bkg doesn't make sense with exponential pdf, but may work with poission pmf.)"
   ]
  },
  {
   "cell_type": "code",
   "execution_count": 63,
   "metadata": {
    "collapsed": true
   },
   "outputs": [],
   "source": [
    "signal = []\n",
    "for i in range(sig_samples):\n",
    "\tsignal.append(-tau*np.log(np.exp(-stop_t/tau) + (1 - np.exp(-stop_t/tau))* np.random.random()))\n",
    "\n",
    "events, bins = np.histogram(signal, data_bins) \n",
    "tot_events = [events[i]+(bkg_samples/(len(bins)-1)) for i in range(len(bins)-1)]\n",
    "rescaled_bins = (bins[:-1] + bins[1:]) / 2  #rescaling bins to find midpoints for each bin"
   ]
  },
  {
   "cell_type": "markdown",
   "metadata": {},
   "source": [
    "As there is data available in every bin, we can minimize the chi-squared to obtain best fit parameters ($\\,A, \\tau$ and $B\\,$) for the function,\n",
    "\\begin{equation}\n",
    "f_\\text{fit}(x) = A\\,e^{\\,(\\frac{-t}{\\tau})} \\, + \\, B\n",
    "\\end{equation}\n",
    "\n",
    "where chi-squared is calculated using (insert equation)"
   ]
  },
  {
   "cell_type": "code",
   "execution_count": 64,
   "metadata": {
    "collapsed": false
   },
   "outputs": [
    {
     "name": "stdout",
     "output_type": "stream",
     "text": [
      "[ 4.10508319  1.42101858  0.15417257]\n",
      "0.454535730718\n"
     ]
    }
   ],
   "source": [
    "init_params_chisq = [1, 1, 1]\n",
    "sigma = [np.sqrt(tot_events[i]) for i in range(len(tot_events))]\n",
    "def func_chisq(arg, A, lifetime, B):\n",
    "\treturn (A*np.exp(-arg/lifetime) + B)\n",
    "fit_param = curve_fit(func_chisq, rescaled_bins, tot_events, init_params_chisq, sigma)[0]\n",
    "print fit_param\n",
    "\n",
    "def exp_func(arg, A, lifetime, B):\n",
    " \treturn (A*np.exp(-arg/lifetime) + B)\n",
    "\n",
    "chi_sq = np.sum([pow((tot_events[i] - exp_func(rescaled_bins[i], *fit_param)), 2)/pow(sigma[i], 2) for i in range(len(tot_events))])\n",
    "print (chi_sq/(len(rescaled_bins)-3))"
   ]
  },
  {
   "cell_type": "code",
   "execution_count": 65,
   "metadata": {
    "collapsed": false
   },
   "outputs": [
    {
     "data": {
      "image/png": "[encoded data removed]",
      "text/plain": [
       "<matplotlib.figure.Figure at 0x113eebad0>"
      ]
     },
     "metadata": {},
     "output_type": "display_data"
    }
   ],
   "source": [
    "fig, ax = plt.subplots(1, 1)\n",
    "plt.scatter(rescaled_bins, tot_events)\n",
    "plt.plot(rescaled_bins, exp_func(rescaled_bins, *fit_param), color='g', label='pdf')\n",
    "plt.xlim(0, 20)\n",
    "plt.xlabel(r'$t \\; [ \\mathrm{in \\, s} ]$')\n",
    "plt.ylabel(r'Events')\n",
    "plt.grid()\n",
    "plt.savefig(outfilepath + 'chisq_fit.pdf')"
   ]
  },
  {
   "cell_type": "code",
   "execution_count": null,
   "metadata": {
    "collapsed": true
   },
   "outputs": [],
   "source": []
  }
 ],
 "metadata": {
  "kernelspec": {
   "display_name": "Python 2",
   "language": "python",
   "name": "python2"
  },
  "language_info": {
   "codemirror_mode": {
    "name": "ipython",
    "version": 2
   },
   "file_extension": ".py",
   "mimetype": "text/x-python",
   "name": "python",
   "nbconvert_exporter": "python",
   "pygments_lexer": "ipython2",
   "version": "2.7.13"
  }
 },
 "nbformat": 4,
 "nbformat_minor": 0
}
