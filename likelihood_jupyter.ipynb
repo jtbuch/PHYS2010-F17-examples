{
 "cells": [
  {
   "cell_type": "markdown",
   "metadata": {},
   "source": [
    "%This is a test heading. Where do we go from here?"
   ]
  },
  {
   "cell_type": "code",
   "execution_count": 7,
   "metadata": {
    "collapsed": false
   },
   "outputs": [
    {
     "data": {
      "image/png": "[encoded data removed]",
      "text/plain": [
       "<matplotlib.figure.Figure at 0x11a3efc50>"
      ]
     },
     "metadata": {},
     "output_type": "display_data"
    }
   ],
   "source": [
    "%matplotlib inline\n",
    "import numpy as np\n",
    "from scipy.optimize import minimize\n",
    "import scipy.stats as stats\n",
    "from scipy.stats import chi2\n",
    "import time\n",
    "import matplotlib.pylab as plt\n",
    "outfilepath = '/Users/Jatan/Google Drive/PHYS2010/'   #modify this path to your plot directory\n",
    "\n",
    "#setting up x values\n",
    "x=np.linspace(0, 10, 11)\n",
    "\n",
    "#input data\n",
    "data = [9.9078, 3.1797, 17.9771, 28.0620, 35.3188, 59.4874, 69.7478, 95.4985, 115.0069, 164.3853, 165.3513]\n",
    "err_std  = [10 * np.ones(len(data))[i] for i in range(len(data))]   #for plotting error bars\n",
    "err_large = [14 * np.ones(len(data))[i] for i in range(len(data))]\n",
    "\n",
    "def neg_loglhood_lin_2d(params):\n",
    "    m = params\n",
    "\n",
    "    ymod = m*x\n",
    "    log_lik_lin = -np.sum(stats.norm.logpdf(data, loc=ymod, scale=err_std) )\n",
    "    return(log_lik_lin)\n",
    "\n",
    "def neg_loglhood_parabolic(params):\n",
    "    a = params\n",
    "\n",
    "    ymod = a*pow(x, 2)\n",
    "    log_lik_plaw = -np.sum(stats.norm.logpdf(data, loc=ymod, scale=err_std) )\n",
    "    return(log_lik_plaw)\n",
    "\n",
    "def neg_loglhood_plaw(params):\n",
    "    a, b = params\n",
    "\n",
    "    ymod = a*pow(x, b)\n",
    "    log_lik_plaw = -np.sum(stats.norm.logpdf(data, loc=ymod, scale=err_std) )\n",
    "    return(log_lik_plaw)\n",
    "\n",
    "#initial parameter guesses    \n",
    "init_params_2d = [1, 1]\n",
    "init_params = [1,]\n",
    "\n",
    "#minimize the log likelihood or equivalently maximize the likelihood\n",
    "result_parabolic = minimize(neg_loglhood_parabolic, init_params, method='nelder-mead')\n",
    "equation_parabolic = 'y =' + str(round(result_parabolic.x[0], 4)) + '*' + 'x^2' \n",
    "\n",
    "result_lin_2d = minimize(neg_loglhood_lin_2d, init_params, method='nelder-mead')\n",
    "equation_lin_2d = 'y =' + str(round(result_lin_2d.x[0], 4)) + '*' + 'x'\n",
    "\n",
    "result_plaw = minimize(neg_loglhood_plaw, init_params_2d, method='nelder-mead')\n",
    "equation_plaw = 'y =' + str(round(result_plaw.x[0], 4)) + '*' + 'x^' + str(round(result_plaw.x[1], 4))\n",
    "\n",
    "#print the results as a sanity check!\n",
    "#print result_plaw.x\n",
    "\n",
    "#plotting routine   #substitute _lin for _plaw to obtain plot for linear model\n",
    "fig, ax = plt.subplots(1,1)\n",
    "plt.plot(x, result_plaw.x[0]*pow(x, result_plaw.x[1]), lw=2, color='black', label = 'best-fit') #result_lin_2d.x[0]*x #result_parabolic.x[0]*pow(x,2) #result_plaw.x[0]*pow(x, result_plaw.x[1]\n",
    "plt.errorbar(x, data, yerr=err_large, color='red', fmt='o')\n",
    "plt.xlim(-1, 11)\n",
    "plt.suptitle(\"MLE: Maximum Likelihood Estimation (v3)\")\n",
    "ax.text(0.5, 0.9, equation_plaw, horizontalalignment='center', verticalalignment='center', transform=ax.transAxes) #equation_lin_2d #equation_parabolic \n",
    "plt.legend(loc='upper left', prop={'size':12}, frameon=False)\n",
    "plt.savefig(outfilepath + 'powerlawfit.pdf')   #'linearfit.pdf' #'parabolicfit.pdf'\n"
   ]
  }
 ],
 "metadata": {
  "kernelspec": {
   "display_name": "Python 2",
   "language": "python",
   "name": "python2"
  },
  "language_info": {
   "codemirror_mode": {
    "name": "ipython",
    "version": 2
   },
   "file_extension": ".py",
   "mimetype": "text/x-python",
   "name": "python",
   "nbconvert_exporter": "python",
   "pygments_lexer": "ipython2",
   "version": "2.7.13"
  }
 },
 "nbformat": 4,
 "nbformat_minor": 0
}
